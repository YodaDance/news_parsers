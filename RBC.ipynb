{
 "cells": [
  {
   "cell_type": "markdown",
   "id": "82ca354c",
   "metadata": {},
   "source": [
    "## Importing libs"
   ]
  },
  {
   "cell_type": "code",
   "execution_count": 151,
   "id": "4b063dbf",
   "metadata": {},
   "outputs": [],
   "source": [
    "import time\n",
    "import numpy as np\n",
    "import pandas as pd\n",
    "import pickle\n",
    "\n",
    "from selenium import webdriver\n",
    "from selenium.webdriver.chrome.service import Service\n",
    "from bs4 import BeautifulSoup\n",
    "import json\n",
    "import dateparser"
   ]
  },
  {
   "cell_type": "code",
   "execution_count": 152,
   "id": "f8561056",
   "metadata": {},
   "outputs": [],
   "source": [
    "options = webdriver.ChromeOptions()\n",
    "options.add_argument('--ignore-certificate-errors')\n",
    "options.add_argument('--incognito')\n",
    "options.add_argument('headless')    \n",
    "service = Service('./chromedriver')\n",
    "driver = webdriver.Chrome(service=service, options=options)"
   ]
  },
  {
   "cell_type": "markdown",
   "id": "edfc6058",
   "metadata": {},
   "source": [
    "## Functions"
   ]
  },
  {
   "cell_type": "code",
   "execution_count": 161,
   "id": "aff5991d",
   "metadata": {},
   "outputs": [],
   "source": [
    "def get_content(driver: webdriver, api: str) -> json:\n",
    "    '''Open a link by selenium webdriver, scrap the page and returns result with proposed news in json format'''\n",
    "    driver.get(api) # открываем ссылку\n",
    "    time.sleep(3) # даем прогрузиться\n",
    "    \n",
    "    page_source = driver.page_source # берем страницу\n",
    "    soup = BeautifulSoup(page_source, 'html.parser') # парсим\n",
    "    data = json.loads(soup.body.text) # достаем текст и превращаем в формат json\n",
    "    \n",
    "    return data['html']\n",
    "\n",
    "def update_news(news: list, data: BeautifulSoup, used_ids_path=None):\n",
    "    # если вдргу файла нет, то содаст пустой список\n",
    "    if used_ids_path:\n",
    "        used_ids = pd.read_csv(used_ids_path)['news_id'].tolist()\n",
    "    else:\n",
    "        used_ids = []\n",
    "        \n",
    "    soup = BeautifulSoup(data, 'html.parser')\n",
    "    content_divs = soup.find_all('div', class_='item__wrap l-col-center') # в этом классе лежит, все что нам нужно\n",
    "    \n",
    "    for item in content_divs:\n",
    "        item_link = item.find('a', class_=\"item__link\")['href'] # ссылка на новость\n",
    "        item_id = item_link.split('/')[-1] # свопадает с id новости\n",
    "        if item_id in used_ids: # скипаем, если вдруг новость уже была добавлена\n",
    "            continue\n",
    "        cur_news = {}\n",
    "        cur_news['published_date'] = dateparser.parse(item.find('span', class_=\"item__category\").text) # парсим дату\n",
    "        cur_news['news_id'] = item_id # добавляем id новости\n",
    "        cur_news['link'] = item_link # ссылка на новость\n",
    "        cur_news['title'] = item.find('span', class_=\"item__title rm-cm-item-text\").text.strip() # текст\n",
    "            \n",
    "        used_ids.append(cur_news['news_id'])\n",
    "        news.append(cur_news)\n",
    "    \n",
    "    pd.Series(used_ids).to_csv('used_ids_rbc.csv', header=['news_id'], index=False) # сохраняем новый список\n",
    "    pass   "
   ]
  },
  {
   "cell_type": "markdown",
   "id": "c005bde9",
   "metadata": {},
   "source": [
    "## Parsing"
   ]
  },
  {
   "cell_type": "code",
   "execution_count": 175,
   "id": "1dd43430",
   "metadata": {},
   "outputs": [],
   "source": [
    "api = 'https://perm.rbc.ru/v10/ajax/get-news-by-filters/?region=perm&offset=0&limit=20'\n",
    "news = []\n",
    "data = get_content(driver, api)\n",
    "update_news(news, data)"
   ]
  },
  {
   "cell_type": "code",
   "execution_count": 176,
   "id": "f609fcf5",
   "metadata": {},
   "outputs": [
    {
     "data": {
      "text/plain": [
       "[{'published_date': datetime.datetime(2022, 6, 21, 11, 11),\n",
       "  'news_id': '62b17cfb9a79479997f2f571',\n",
       "  'link': 'https://perm.rbc.ru/perm/freenews/62b17cfb9a79479997f2f571',\n",
       "  'title': 'В Прикамье продолжает снижаться суточная заболеваемость коронавирусом'},\n",
       " {'published_date': datetime.datetime(2022, 6, 21, 11, 8),\n",
       "  'news_id': '62b17c1a9a794799866008b7',\n",
       "  'link': 'https://perm.rbc.ru/perm/freenews/62b17c1a9a794799866008b7',\n",
       "  'title': 'На заседание оргкомитета «Пермь-300» приедет вице-премьер Чернышенко'},\n",
       " {'published_date': datetime.datetime(2022, 6, 21, 9, 45),\n",
       "  'news_id': '62b168b09a79479027cf2f7d',\n",
       "  'link': 'https://perm.rbc.ru/perm/freenews/62b168b09a79479027cf2f7d',\n",
       "  'title': 'Строительство трамвайных веток на Парковый и Садовый перенесли на 2023 г.'},\n",
       " {'published_date': datetime.datetime(2022, 6, 21, 8, 37),\n",
       "  'news_id': '62b158c59a794789d921b664',\n",
       "  'link': 'https://perm.rbc.ru/perm/freenews/62b158c59a794789d921b664',\n",
       "  'title': 'Объем федерального инфраструктурного кредита Прикамью превысит ₽13 млрд'},\n",
       " {'published_date': datetime.datetime(2022, 6, 21, 7, 35),\n",
       "  'news_id': '62b14a2b9a794782c1bc62c7',\n",
       "  'link': 'https://perm.rbc.ru/perm/freenews/62b14a2b9a794782c1bc62c7',\n",
       "  'title': 'В одном из городов Прикамья зафиксировали смерч'},\n",
       " {'published_date': datetime.datetime(2022, 6, 21, 6, 29),\n",
       "  'news_id': '62b068519a79474173a249d0',\n",
       "  'link': 'https://perm.rbc.ru/perm/freenews/62b068519a79474173a249d0',\n",
       "  'title': 'На программу газификации Прикамья будет направлено более 14 млрд руб.'},\n",
       " {'published_date': datetime.datetime(2022, 6, 21, 5, 28),\n",
       "  'news_id': '62b06f219a7947460388a4ef',\n",
       "  'link': 'https://perm.rbc.ru/perm/freenews/62b06f219a7947460388a4ef',\n",
       "  'title': 'В Прикамье существенно выросло число обращений из-за укусов клещей'},\n",
       " {'published_date': datetime.datetime(2022, 6, 20, 16, 48),\n",
       "  'news_id': '62b070889a79474736cd7673',\n",
       "  'link': 'https://perm.rbc.ru/perm/freenews/62b070889a79474736cd7673',\n",
       "  'title': '«Доброе дело»: пермяки в 1,5 раза чаще стали заказывать на маркетплейсах'},\n",
       " {'published_date': datetime.datetime(2022, 6, 20, 15, 50),\n",
       "  'news_id': '62b064399a79473f543698dc',\n",
       "  'link': 'https://perm.rbc.ru/perm/freenews/62b064399a79473f543698dc',\n",
       "  'title': 'Цены снижаются? Прикамье на 30 месте в рейтинге социального благополучия'},\n",
       " {'published_date': datetime.datetime(2022, 6, 20, 14, 43),\n",
       "  'news_id': '62b05cfa9a79473b0a95bb76',\n",
       "  'link': 'https://perm.rbc.ru/perm/freenews/62b05cfa9a79473b0a95bb76',\n",
       "  'title': 'Назначен новый директор Соликамского магниевого завода'},\n",
       " {'published_date': datetime.datetime(2022, 6, 20, 13, 39),\n",
       "  'news_id': '62b04df99a794735054d2745',\n",
       "  'link': 'https://perm.rbc.ru/perm/freenews/62b04df99a794735054d2745',\n",
       "  'title': 'Пермский краевой суд рассмотрит жалобу на приговор экс-депутату Бурнашову'},\n",
       " {'published_date': datetime.datetime(2022, 6, 20, 12, 28),\n",
       "  'news_id': '62b03d319a79472bdee56c50',\n",
       "  'link': 'https://perm.rbc.ru/perm/freenews/62b03d319a79472bdee56c50',\n",
       "  'title': '«Вкусно – и точка» может открыться в Перми в следующий понедельник'},\n",
       " {'published_date': datetime.datetime(2022, 6, 20, 11, 17),\n",
       "  'news_id': '62b02c149a794724bfe17df9',\n",
       "  'link': 'https://perm.rbc.ru/perm/freenews/62b02c149a794724bfe17df9',\n",
       "  'title': 'В Прикамье зафиксировано 36 новых случаев коронавируса'},\n",
       " {'published_date': datetime.datetime(2022, 6, 20, 10, 40),\n",
       "  'news_id': '62b023bc9a794721402c260f',\n",
       "  'link': 'https://perm.rbc.ru/perm/freenews/62b023bc9a794721402c260f',\n",
       "  'title': 'Долгострой за ТЦ «Столица» завершит застройщик из Удмуртии'},\n",
       " {'published_date': datetime.datetime(2022, 6, 20, 9, 14),\n",
       "  'news_id': '62b00fdd9a79471826b0570a',\n",
       "  'link': 'https://perm.rbc.ru/perm/freenews/62b00fdd9a79471826b0570a',\n",
       "  'title': 'Пермский НОЦ получит 119 млн руб. в виде гранта правительства РФ'},\n",
       " {'published_date': datetime.datetime(2022, 6, 20, 7, 50),\n",
       "  'news_id': '62affc699a7947132cdce58b',\n",
       "  'link': 'https://perm.rbc.ru/perm/freenews/62affc699a7947132cdce58b',\n",
       "  'title': 'Северо-западный циклон: синоптики рассказали о погоде в крае на неделю'},\n",
       " {'published_date': datetime.datetime(2022, 6, 20, 7, 31),\n",
       "  'news_id': '62aff7809a794711b0e79680',\n",
       "  'link': 'https://perm.rbc.ru/perm/freenews/62aff7809a794711b0e79680',\n",
       "  'title': 'Глава первого отдела и ремонт Петропавловской: главное в крае за выходные'},\n",
       " {'published_date': datetime.datetime(2022, 6, 19, 15, 3),\n",
       "  'news_id': '62ac6da49a7947b5d0e9ce59',\n",
       "  'link': 'https://perm.rbc.ru/perm/freenews/62ac6da49a7947b5d0e9ce59',\n",
       "  'title': '«Не меньше, чем варить сталь»: эксперт о развитии общепита в Перми'},\n",
       " {'published_date': datetime.datetime(2022, 6, 19, 11, 50),\n",
       "  'news_id': '62ac6aba9a7947b3f9296ad1',\n",
       "  'link': 'https://perm.rbc.ru/perm/freenews/62ac6aba9a7947b3f9296ad1',\n",
       "  'title': 'Минтарифов обжалует решение о признании недействующими тарифов ТКО'},\n",
       " {'published_date': datetime.datetime(2022, 6, 18, 14, 12),\n",
       "  'news_id': '62ac62359a7947af48357c09',\n",
       "  'link': 'https://perm.rbc.ru/perm/freenews/62ac62359a7947af48357c09',\n",
       "  'title': '«Боевой коллектив»: интервью нового тренера «Пармы» Евгения Пашутина'}]"
      ]
     },
     "execution_count": 176,
     "metadata": {},
     "output_type": "execute_result"
    }
   ],
   "source": [
    "news"
   ]
  },
  {
   "cell_type": "code",
   "execution_count": 150,
   "id": "1ed5bfae",
   "metadata": {},
   "outputs": [],
   "source": [
    "driver.close()"
   ]
  },
  {
   "cell_type": "code",
   "execution_count": 137,
   "id": "1fc7195c",
   "metadata": {},
   "outputs": [],
   "source": [
    "df['news_id'].to_csv('used_ids_rbc.csv', index=False)"
   ]
  },
  {
   "cell_type": "code",
   "execution_count": null,
   "id": "bc964ef5",
   "metadata": {},
   "outputs": [],
   "source": [
    "regions = ['ekb', 'perm']"
   ]
  },
  {
   "cell_type": "code",
   "execution_count": 177,
   "id": "c9a639ba",
   "metadata": {},
   "outputs": [
    {
     "ename": "JSONDecodeError",
     "evalue": "Expecting value: line 6 column 13 (char 17)",
     "output_type": "error",
     "traceback": [
      "\u001b[1;31m---------------------------------------------------------------------------\u001b[0m",
      "\u001b[1;31mJSONDecodeError\u001b[0m                           Traceback (most recent call last)",
      "\u001b[1;32m~\\AppData\\Local\\Temp/ipykernel_6256/1940276453.py\u001b[0m in \u001b[0;36m<module>\u001b[1;34m\u001b[0m\n\u001b[0;32m      4\u001b[0m     \u001b[0mtime\u001b[0m\u001b[1;33m.\u001b[0m\u001b[0msleep\u001b[0m\u001b[1;33m(\u001b[0m\u001b[1;36m2\u001b[0m\u001b[1;33m)\u001b[0m\u001b[1;33m\u001b[0m\u001b[1;33m\u001b[0m\u001b[0m\n\u001b[0;32m      5\u001b[0m     \u001b[0miter_api\u001b[0m \u001b[1;33m=\u001b[0m \u001b[1;34mf'https://perm.rbc.ru/v10/ajax/get-news-by-filters/?region=perm&offset={i}&limit=20'\u001b[0m\u001b[1;33m\u001b[0m\u001b[1;33m\u001b[0m\u001b[0m\n\u001b[1;32m----> 6\u001b[1;33m     \u001b[0mdata\u001b[0m \u001b[1;33m=\u001b[0m \u001b[0mget_content\u001b[0m\u001b[1;33m(\u001b[0m\u001b[0mdriver\u001b[0m\u001b[1;33m,\u001b[0m \u001b[0miter_api\u001b[0m\u001b[1;33m)\u001b[0m\u001b[1;33m\u001b[0m\u001b[1;33m\u001b[0m\u001b[0m\n\u001b[0m\u001b[0;32m      7\u001b[0m     \u001b[0mupdate_news\u001b[0m\u001b[1;33m(\u001b[0m\u001b[0mnews\u001b[0m\u001b[1;33m,\u001b[0m \u001b[0mdata\u001b[0m\u001b[1;33m,\u001b[0m \u001b[1;34m'./used_ids_rbc.csv'\u001b[0m\u001b[1;33m)\u001b[0m\u001b[1;33m\u001b[0m\u001b[1;33m\u001b[0m\u001b[0m\n\u001b[0;32m      8\u001b[0m     \u001b[1;32mif\u001b[0m \u001b[0mi\u001b[0m \u001b[1;33m%\u001b[0m \u001b[1;36m200\u001b[0m \u001b[1;33m==\u001b[0m \u001b[1;36m0\u001b[0m\u001b[1;33m:\u001b[0m\u001b[1;33m\u001b[0m\u001b[1;33m\u001b[0m\u001b[0m\n",
      "\u001b[1;32m~\\AppData\\Local\\Temp/ipykernel_6256/128628497.py\u001b[0m in \u001b[0;36mget_content\u001b[1;34m(driver, api)\u001b[0m\n\u001b[0;32m      6\u001b[0m     \u001b[0mpage_source\u001b[0m \u001b[1;33m=\u001b[0m \u001b[0mdriver\u001b[0m\u001b[1;33m.\u001b[0m\u001b[0mpage_source\u001b[0m \u001b[1;31m# берем страницу\u001b[0m\u001b[1;33m\u001b[0m\u001b[1;33m\u001b[0m\u001b[0m\n\u001b[0;32m      7\u001b[0m     \u001b[0msoup\u001b[0m \u001b[1;33m=\u001b[0m \u001b[0mBeautifulSoup\u001b[0m\u001b[1;33m(\u001b[0m\u001b[0mpage_source\u001b[0m\u001b[1;33m,\u001b[0m \u001b[1;34m'html.parser'\u001b[0m\u001b[1;33m)\u001b[0m \u001b[1;31m# парсим\u001b[0m\u001b[1;33m\u001b[0m\u001b[1;33m\u001b[0m\u001b[0m\n\u001b[1;32m----> 8\u001b[1;33m     \u001b[0mdata\u001b[0m \u001b[1;33m=\u001b[0m \u001b[0mjson\u001b[0m\u001b[1;33m.\u001b[0m\u001b[0mloads\u001b[0m\u001b[1;33m(\u001b[0m\u001b[0msoup\u001b[0m\u001b[1;33m.\u001b[0m\u001b[0mbody\u001b[0m\u001b[1;33m.\u001b[0m\u001b[0mtext\u001b[0m\u001b[1;33m)\u001b[0m \u001b[1;31m# достаем текст и превращаем в формат json\u001b[0m\u001b[1;33m\u001b[0m\u001b[1;33m\u001b[0m\u001b[0m\n\u001b[0m\u001b[0;32m      9\u001b[0m \u001b[1;33m\u001b[0m\u001b[0m\n\u001b[0;32m     10\u001b[0m     \u001b[1;32mreturn\u001b[0m \u001b[0mdata\u001b[0m\u001b[1;33m[\u001b[0m\u001b[1;34m'html'\u001b[0m\u001b[1;33m]\u001b[0m\u001b[1;33m\u001b[0m\u001b[1;33m\u001b[0m\u001b[0m\n",
      "\u001b[1;32m~\\anaconda3\\lib\\json\\__init__.py\u001b[0m in \u001b[0;36mloads\u001b[1;34m(s, cls, object_hook, parse_float, parse_int, parse_constant, object_pairs_hook, **kw)\u001b[0m\n\u001b[0;32m    344\u001b[0m             \u001b[0mparse_int\u001b[0m \u001b[1;32mis\u001b[0m \u001b[1;32mNone\u001b[0m \u001b[1;32mand\u001b[0m \u001b[0mparse_float\u001b[0m \u001b[1;32mis\u001b[0m \u001b[1;32mNone\u001b[0m \u001b[1;32mand\u001b[0m\u001b[1;33m\u001b[0m\u001b[1;33m\u001b[0m\u001b[0m\n\u001b[0;32m    345\u001b[0m             parse_constant is None and object_pairs_hook is None and not kw):\n\u001b[1;32m--> 346\u001b[1;33m         \u001b[1;32mreturn\u001b[0m \u001b[0m_default_decoder\u001b[0m\u001b[1;33m.\u001b[0m\u001b[0mdecode\u001b[0m\u001b[1;33m(\u001b[0m\u001b[0ms\u001b[0m\u001b[1;33m)\u001b[0m\u001b[1;33m\u001b[0m\u001b[1;33m\u001b[0m\u001b[0m\n\u001b[0m\u001b[0;32m    347\u001b[0m     \u001b[1;32mif\u001b[0m \u001b[0mcls\u001b[0m \u001b[1;32mis\u001b[0m \u001b[1;32mNone\u001b[0m\u001b[1;33m:\u001b[0m\u001b[1;33m\u001b[0m\u001b[1;33m\u001b[0m\u001b[0m\n\u001b[0;32m    348\u001b[0m         \u001b[0mcls\u001b[0m \u001b[1;33m=\u001b[0m \u001b[0mJSONDecoder\u001b[0m\u001b[1;33m\u001b[0m\u001b[1;33m\u001b[0m\u001b[0m\n",
      "\u001b[1;32m~\\anaconda3\\lib\\json\\decoder.py\u001b[0m in \u001b[0;36mdecode\u001b[1;34m(self, s, _w)\u001b[0m\n\u001b[0;32m    335\u001b[0m \u001b[1;33m\u001b[0m\u001b[0m\n\u001b[0;32m    336\u001b[0m         \"\"\"\n\u001b[1;32m--> 337\u001b[1;33m         \u001b[0mobj\u001b[0m\u001b[1;33m,\u001b[0m \u001b[0mend\u001b[0m \u001b[1;33m=\u001b[0m \u001b[0mself\u001b[0m\u001b[1;33m.\u001b[0m\u001b[0mraw_decode\u001b[0m\u001b[1;33m(\u001b[0m\u001b[0ms\u001b[0m\u001b[1;33m,\u001b[0m \u001b[0midx\u001b[0m\u001b[1;33m=\u001b[0m\u001b[0m_w\u001b[0m\u001b[1;33m(\u001b[0m\u001b[0ms\u001b[0m\u001b[1;33m,\u001b[0m \u001b[1;36m0\u001b[0m\u001b[1;33m)\u001b[0m\u001b[1;33m.\u001b[0m\u001b[0mend\u001b[0m\u001b[1;33m(\u001b[0m\u001b[1;33m)\u001b[0m\u001b[1;33m)\u001b[0m\u001b[1;33m\u001b[0m\u001b[1;33m\u001b[0m\u001b[0m\n\u001b[0m\u001b[0;32m    338\u001b[0m         \u001b[0mend\u001b[0m \u001b[1;33m=\u001b[0m \u001b[0m_w\u001b[0m\u001b[1;33m(\u001b[0m\u001b[0ms\u001b[0m\u001b[1;33m,\u001b[0m \u001b[0mend\u001b[0m\u001b[1;33m)\u001b[0m\u001b[1;33m.\u001b[0m\u001b[0mend\u001b[0m\u001b[1;33m(\u001b[0m\u001b[1;33m)\u001b[0m\u001b[1;33m\u001b[0m\u001b[1;33m\u001b[0m\u001b[0m\n\u001b[0;32m    339\u001b[0m         \u001b[1;32mif\u001b[0m \u001b[0mend\u001b[0m \u001b[1;33m!=\u001b[0m \u001b[0mlen\u001b[0m\u001b[1;33m(\u001b[0m\u001b[0ms\u001b[0m\u001b[1;33m)\u001b[0m\u001b[1;33m:\u001b[0m\u001b[1;33m\u001b[0m\u001b[1;33m\u001b[0m\u001b[0m\n",
      "\u001b[1;32m~\\anaconda3\\lib\\json\\decoder.py\u001b[0m in \u001b[0;36mraw_decode\u001b[1;34m(self, s, idx)\u001b[0m\n\u001b[0;32m    353\u001b[0m             \u001b[0mobj\u001b[0m\u001b[1;33m,\u001b[0m \u001b[0mend\u001b[0m \u001b[1;33m=\u001b[0m \u001b[0mself\u001b[0m\u001b[1;33m.\u001b[0m\u001b[0mscan_once\u001b[0m\u001b[1;33m(\u001b[0m\u001b[0ms\u001b[0m\u001b[1;33m,\u001b[0m \u001b[0midx\u001b[0m\u001b[1;33m)\u001b[0m\u001b[1;33m\u001b[0m\u001b[1;33m\u001b[0m\u001b[0m\n\u001b[0;32m    354\u001b[0m         \u001b[1;32mexcept\u001b[0m \u001b[0mStopIteration\u001b[0m \u001b[1;32mas\u001b[0m \u001b[0merr\u001b[0m\u001b[1;33m:\u001b[0m\u001b[1;33m\u001b[0m\u001b[1;33m\u001b[0m\u001b[0m\n\u001b[1;32m--> 355\u001b[1;33m             \u001b[1;32mraise\u001b[0m \u001b[0mJSONDecodeError\u001b[0m\u001b[1;33m(\u001b[0m\u001b[1;34m\"Expecting value\"\u001b[0m\u001b[1;33m,\u001b[0m \u001b[0ms\u001b[0m\u001b[1;33m,\u001b[0m \u001b[0merr\u001b[0m\u001b[1;33m.\u001b[0m\u001b[0mvalue\u001b[0m\u001b[1;33m)\u001b[0m \u001b[1;32mfrom\u001b[0m \u001b[1;32mNone\u001b[0m\u001b[1;33m\u001b[0m\u001b[1;33m\u001b[0m\u001b[0m\n\u001b[0m\u001b[0;32m    356\u001b[0m         \u001b[1;32mreturn\u001b[0m \u001b[0mobj\u001b[0m\u001b[1;33m,\u001b[0m \u001b[0mend\u001b[0m\u001b[1;33m\u001b[0m\u001b[1;33m\u001b[0m\u001b[0m\n",
      "\u001b[1;31mJSONDecodeError\u001b[0m: Expecting value: line 6 column 13 (char 17)"
     ]
    }
   ],
   "source": [
    "i = 0\n",
    "while True:\n",
    "    i += 20\n",
    "    time.sleep(2)\n",
    "    iter_api = f'https://perm.rbc.ru/v10/ajax/get-news-by-filters/?region=perm&offset={i}&limit=20'\n",
    "    data = get_content(driver, iter_api)\n",
    "    update_news(news, data, './used_ids_rbc.csv')\n",
    "    if i % 200 == 0:\n",
    "        with open('rbc_perm', 'wb') as f:\n",
    "            pickle.dump(news, f)"
   ]
  },
  {
   "cell_type": "code",
   "execution_count": 172,
   "id": "bee388cc",
   "metadata": {},
   "outputs": [
    {
     "data": {
      "text/plain": [
       "1020"
      ]
     },
     "execution_count": 172,
     "metadata": {},
     "output_type": "execute_result"
    }
   ],
   "source": [
    "len(news)"
   ]
  },
  {
   "cell_type": "code",
   "execution_count": 178,
   "id": "c9395549",
   "metadata": {},
   "outputs": [],
   "source": [
    "with open('rbc_perm', 'wb') as f:\n",
    "    pickle.dump(news, f)"
   ]
  },
  {
   "cell_type": "code",
   "execution_count": 174,
   "id": "8d5e3de8",
   "metadata": {},
   "outputs": [
    {
     "data": {
      "text/plain": [
       "51.0"
      ]
     },
     "execution_count": 174,
     "metadata": {},
     "output_type": "execute_result"
    }
   ],
   "source": [
    "1020 / 20"
   ]
  },
  {
   "cell_type": "code",
   "execution_count": 183,
   "id": "96d4627e",
   "metadata": {},
   "outputs": [
    {
     "data": {
      "text/plain": [
       "{'published_date': datetime.datetime(2022, 2, 28, 10, 27),\n",
       " 'news_id': '621c782d9a79474909668f06',\n",
       " 'link': 'https://perm.rbc.ru/perm/freenews/621c782d9a79474909668f06',\n",
       " 'title': 'Депутат Госдумы Дмитрий Скриванов также попал под санкции ЕС'}"
      ]
     },
     "execution_count": 183,
     "metadata": {},
     "output_type": "execute_result"
    }
   ],
   "source": [
    "news[-1]"
   ]
  },
  {
   "cell_type": "code",
   "execution_count": null,
   "id": "f0c72b0c",
   "metadata": {},
   "outputs": [],
   "source": []
  }
 ],
 "metadata": {
  "kernelspec": {
   "display_name": "Python 3 (ipykernel)",
   "language": "python",
   "name": "python3"
  },
  "language_info": {
   "codemirror_mode": {
    "name": "ipython",
    "version": 3
   },
   "file_extension": ".py",
   "mimetype": "text/x-python",
   "name": "python",
   "nbconvert_exporter": "python",
   "pygments_lexer": "ipython3",
   "version": "3.9.7"
  },
  "toc": {
   "base_numbering": 1,
   "nav_menu": {},
   "number_sections": true,
   "sideBar": true,
   "skip_h1_title": false,
   "title_cell": "Table of Contents",
   "title_sidebar": "Contents",
   "toc_cell": false,
   "toc_position": {
    "height": "calc(100% - 180px)",
    "left": "10px",
    "top": "150px",
    "width": "165px"
   },
   "toc_section_display": true,
   "toc_window_display": false
  }
 },
 "nbformat": 4,
 "nbformat_minor": 5
}
