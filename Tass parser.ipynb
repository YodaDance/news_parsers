{
 "cells": [
  {
   "cell_type": "markdown",
   "id": "0754ff7c",
   "metadata": {},
   "source": [
    "## Importing libs"
   ]
  },
  {
   "cell_type": "code",
   "execution_count": 2,
   "id": "a19c8c23",
   "metadata": {},
   "outputs": [],
   "source": [
    "import time\n",
    "import numpy as np\n",
    "import pandas as pd\n",
    "import pickle\n",
    "\n",
    "from selenium import webdriver\n",
    "from selenium.webdriver.chrome.service import Service\n",
    "from bs4 import BeautifulSoup\n",
    "import json"
   ]
  },
  {
   "cell_type": "markdown",
   "id": "390399fb",
   "metadata": {},
   "source": [
    "### Set up selenium browser"
   ]
  },
  {
   "cell_type": "code",
   "execution_count": 3,
   "id": "5193e669",
   "metadata": {},
   "outputs": [],
   "source": [
    "options = webdriver.ChromeOptions()\n",
    "options.add_argument('--ignore-certificate-errors')\n",
    "options.add_argument('--incognito')\n",
    "options.add_argument('headless')    \n",
    "service = Service('./chromedriver')\n",
    "driver = webdriver.Chrome(service=service, options=options)"
   ]
  },
  {
   "cell_type": "markdown",
   "id": "c5c2deae",
   "metadata": {},
   "source": [
    "## Web scraping TASS"
   ]
  },
  {
   "cell_type": "code",
   "execution_count": 4,
   "id": "8beb4571",
   "metadata": {},
   "outputs": [],
   "source": [
    "def get_content(driver: webdriver, api: str) -> json:\n",
    "    '''Open a link by selenium webdriver, scrap the page and returns result with proposed news in json format'''\n",
    "    driver.get(api) # открываем ссылку\n",
    "    time.sleep(3) # даем прогрузиться\n",
    "    \n",
    "    page_source = driver.page_source # берем страницу\n",
    "    soup = BeautifulSoup(page_source, 'html.parser') # парсим\n",
    "    data = json.loads(soup.body.text) # достаем текст и превращаем в формат json\n",
    "    \n",
    "    return data\n",
    "\n",
    "\n",
    "def update_news(news: list, data: json):\n",
    "    '''Download news from Tass ural (/ural-news) and add to the existing list of news\n",
    "    '''\n",
    "    new_news = [] # список всех распарсенных новостей\n",
    "    for item in data['result']: # идем по каждой новости\n",
    "        cur_news = {} \n",
    "        cur_news['composite_id'] = item['composite_id']\n",
    "        cur_news['title'] = item['title']\n",
    "        cur_news['subtitle'] = item['subtitle']\n",
    "        cur_news['lead'] = item['lead']\n",
    "        cur_news['url'] = 'https://tass.ru' + item['url']\n",
    "        cur_news['rubrics'] = []\n",
    "        for rubric in item['rubrics']:\n",
    "            cur_news['rubrics'].append(rubric['name'])\n",
    "        cur_news['tags'] = []\n",
    "        for tag in item['tags']:\n",
    "            cur_news['tags'].append(tag['name'])\n",
    "        cur_news['es_updated_dt'] = item['es_updated_dt']\n",
    "        cur_news['published_date'] = item['es_updated_dt'].split('T')[0]\n",
    "        new_news.append(cur_news)\n",
    "        \n",
    "    news.extend(new_news) # расширяем существующий список новыми новостями\n",
    "    pass"
   ]
  },
  {
   "cell_type": "code",
   "execution_count": 5,
   "id": "1a618bec",
   "metadata": {},
   "outputs": [],
   "source": [
    "# загружаем новости со стартовой страницы\n",
    "api = 'https://tass.ru/tbp/api/v1/content?limit=18&offset=0&lang=ru&rubrics=/ural-news&sort=-es_updated_dt'\n",
    "data = get_content(driver, api)"
   ]
  },
  {
   "cell_type": "code",
   "execution_count": 6,
   "id": "97b8c01a",
   "metadata": {},
   "outputs": [
    {
     "data": {
      "text/plain": [
       "{'id': 14976661,\n",
       " 'composite_id': '14976661',\n",
       " 'type': 'news',\n",
       " 'status': 'published',\n",
       " 'title': 'Грозы с сильным ветром и жаркая погода ожидаются в регионах Урала в ближайшие три дня',\n",
       " 'subtitle': '',\n",
       " 'lead': 'Синоптики прогнозируют грозы с сильным ветром и дожди',\n",
       " 'url': '/obschestvo/14976661',\n",
       " 'lang': 'ru',\n",
       " 'urgency': 'normal',\n",
       " 'main_media': {'gallery': None, 'image': None, 'video': None},\n",
       " 'main_rubric_id': 24,\n",
       " 'rubrics': [{'id': 24,\n",
       "   'name': 'Общество',\n",
       "   'url': '/obschestvo',\n",
       "   'type': 'rubric'},\n",
       "  {'id': 4731,\n",
       "   'name': 'Новости Урала',\n",
       "   'url': '/ural-news',\n",
       "   'type': 'rubric'}],\n",
       " 'tags': [{'id': 3929, 'name': 'Россия', 'url': '/rossiya'},\n",
       "  {'id': 8974,\n",
       "   'name': 'Свердловская область',\n",
       "   'url': '/sverdlovskaya-oblast'}],\n",
       " 'published_dt': '2022-06-20T13:53:40',\n",
       " 'publish_updated_dt': '2022-06-20T13:53:40',\n",
       " 'updated_dt': '2022-06-20T13:53:40',\n",
       " 'es_updated_dt': '2022-06-20T13:53:40.775132',\n",
       " 'meta_title': 'Грозы с сильным ветром и жаркая погода ожидаются в регионах Урала в ближайшие три дня  - ТАСС',\n",
       " 'meta_description': 'Синоптики прогнозируют грозы с сильным ветром и дожди',\n",
       " 'author': ' ЕКАТЕРИНБУРГ 20, июня. /ТАСС',\n",
       " 'authors': [{'id': None,\n",
       "   'url': None,\n",
       "   'name': ' ЕКАТЕРИНБУРГ 20, июня. /ТАСС',\n",
       "   'image': None,\n",
       "   'role': None,\n",
       "   'is_expert': False}],\n",
       " 'technical_caption': '',\n",
       " 'options': {'is_online': None,\n",
       "  'is_live': None,\n",
       "  'is_flash': False,\n",
       "  'is_verified_by_tass': False,\n",
       "  'is_explained_by_tass': False,\n",
       "  'card_quantity': None,\n",
       "  'sponsor_type': None,\n",
       "  'hide_main_photo': False},\n",
       " 'stream': {'is_video_streaming': False,\n",
       "  'rtmp': '',\n",
       "  'smil': '',\n",
       "  'm3u8': '',\n",
       "  'copyright': '',\n",
       "  'description': None}}"
      ]
     },
     "execution_count": 6,
     "metadata": {},
     "output_type": "execute_result"
    }
   ],
   "source": [
    "data['result'][0] # так выглядит новость"
   ]
  },
  {
   "cell_type": "code",
   "execution_count": 8,
   "id": "7de5f503",
   "metadata": {},
   "outputs": [
    {
     "data": {
      "text/plain": [
       "{'composite_id': '14976661',\n",
       " 'title': 'Грозы с сильным ветром и жаркая погода ожидаются в регионах Урала в ближайшие три дня',\n",
       " 'subtitle': '',\n",
       " 'lead': 'Синоптики прогнозируют грозы с сильным ветром и дожди',\n",
       " 'url': 'https://tass.ru/obschestvo/14976661',\n",
       " 'rubrics': ['Общество', 'Новости Урала'],\n",
       " 'tags': ['Россия', 'Свердловская область'],\n",
       " 'es_updated_dt': '2022-06-20T13:53:40.775132',\n",
       " 'published_date': '2022-06-20'}"
      ]
     },
     "execution_count": 8,
     "metadata": {},
     "output_type": "execute_result"
    }
   ],
   "source": [
    "news[0] # так выглядит каждая новость после парсинга"
   ]
  },
  {
   "cell_type": "markdown",
   "id": "06fef860",
   "metadata": {},
   "source": [
    "## Downloading past news"
   ]
  },
  {
   "cell_type": "code",
   "execution_count": 10,
   "id": "42c84ec6",
   "metadata": {},
   "outputs": [],
   "source": [
    "with open('tass', 'rb') as f:\n",
    "    news = pickle.load(f)"
   ]
  },
  {
   "cell_type": "code",
   "execution_count": 26,
   "id": "d27b4b1a",
   "metadata": {
    "scrolled": true
   },
   "outputs": [
    {
     "name": "stdout",
     "output_type": "stream",
     "text": [
      "Reached 100!\n",
      "Reached 100!\n",
      "Reached 100!\n",
      "Reached 100!\n",
      "Reached 100!\n",
      "Reached 100!\n",
      "Reached 100!\n",
      "Reached 100!\n",
      "Reached 100!\n",
      "Reached 100!\n",
      "Reached 100!\n",
      "Reached 100!\n",
      "Reached 100!\n",
      "Reached 100!\n",
      "Reached 100!\n",
      "Reached 100!\n",
      "Reached 100!\n",
      "Reached 100!\n",
      "Reached 100!\n",
      "Reached 100!\n",
      "Reached 100!\n",
      "Reached 100!\n",
      "Reached 100!\n",
      "Reached 100!\n",
      "Reached 100!\n",
      "Reached 100!\n",
      "Reached 100!\n",
      "Reached 100!\n",
      "Reached 100!\n",
      "Reached 100!\n",
      "Reached 100!\n",
      "Reached 100!\n",
      "Reached 100!\n",
      "Reached 100!\n",
      "Reached 100!\n",
      "Reached 100!\n",
      "Reached 100!\n",
      "Reached 100!\n",
      "Reached 100!\n",
      "Reached 100!\n",
      "Reached 100!\n",
      "Reached 100!\n",
      "Reached 100!\n",
      "Reached 100!\n",
      "Reached 100!\n",
      "Reached 100!\n",
      "Reached 100!\n"
     ]
    },
    {
     "ename": "KeyboardInterrupt",
     "evalue": "",
     "output_type": "error",
     "traceback": [
      "\u001b[1;31m---------------------------------------------------------------------------\u001b[0m",
      "\u001b[1;31mKeyboardInterrupt\u001b[0m                         Traceback (most recent call last)",
      "Input \u001b[1;32mIn [26]\u001b[0m, in \u001b[0;36m<cell line: 3>\u001b[1;34m()\u001b[0m\n\u001b[0;32m      5\u001b[0m last_es_updated_dt \u001b[38;5;241m=\u001b[39m news[\u001b[38;5;241m-\u001b[39m\u001b[38;5;241m1\u001b[39m][\u001b[38;5;124m'\u001b[39m\u001b[38;5;124mes_updated_dt\u001b[39m\u001b[38;5;124m'\u001b[39m]\n\u001b[0;32m      6\u001b[0m iter_api \u001b[38;5;241m=\u001b[39m \u001b[38;5;124mf\u001b[39m\u001b[38;5;124m'\u001b[39m\u001b[38;5;124mhttps://tass.ru/tbp/api/v1/content?limit=15&last_es_updated_dt=\u001b[39m\u001b[38;5;132;01m{\u001b[39;00mlast_es_updated_dt\u001b[38;5;132;01m}\u001b[39;00m\u001b[38;5;124m&lang=ru&rubrics=/ural-news&sort=-es_updated_dt\u001b[39m\u001b[38;5;124m'\u001b[39m\n\u001b[1;32m----> 7\u001b[0m data \u001b[38;5;241m=\u001b[39m \u001b[43mget_content\u001b[49m\u001b[43m(\u001b[49m\u001b[43mdriver\u001b[49m\u001b[43m,\u001b[49m\u001b[43m \u001b[49m\u001b[43miter_api\u001b[49m\u001b[43m)\u001b[49m\n\u001b[0;32m      8\u001b[0m update_news(news, data)\n\u001b[0;32m      9\u001b[0m \u001b[38;5;28;01mif\u001b[39;00m i \u001b[38;5;241m==\u001b[39m \u001b[38;5;241m100\u001b[39m:\n",
      "Input \u001b[1;32mIn [4]\u001b[0m, in \u001b[0;36mget_content\u001b[1;34m(driver, api)\u001b[0m\n\u001b[0;32m      2\u001b[0m \u001b[38;5;124;03m'''Open a link by selenium webdriver, scrap the page and returns result with proposed news in json format'''\u001b[39;00m\n\u001b[0;32m      3\u001b[0m driver\u001b[38;5;241m.\u001b[39mget(api) \u001b[38;5;66;03m# открываем ссылку\u001b[39;00m\n\u001b[1;32m----> 4\u001b[0m \u001b[43mtime\u001b[49m\u001b[38;5;241;43m.\u001b[39;49m\u001b[43msleep\u001b[49m\u001b[43m(\u001b[49m\u001b[38;5;241;43m3\u001b[39;49m\u001b[43m)\u001b[49m \u001b[38;5;66;03m# даем прогрузиться\u001b[39;00m\n\u001b[0;32m      6\u001b[0m page_source \u001b[38;5;241m=\u001b[39m driver\u001b[38;5;241m.\u001b[39mpage_source \u001b[38;5;66;03m# берем страницу\u001b[39;00m\n\u001b[0;32m      7\u001b[0m soup \u001b[38;5;241m=\u001b[39m BeautifulSoup(page_source, \u001b[38;5;124m'\u001b[39m\u001b[38;5;124mhtml.parser\u001b[39m\u001b[38;5;124m'\u001b[39m) \u001b[38;5;66;03m# парсим\u001b[39;00m\n",
      "\u001b[1;31mKeyboardInterrupt\u001b[0m: "
     ]
    }
   ],
   "source": [
    "i = 0\n",
    "while True:\n",
    "    time.sleep(3)\n",
    "    i += 1\n",
    "    last_es_updated_dt = news[-1]['es_updated_dt']\n",
    "    iter_api = f'https://tass.ru/tbp/api/v1/content?limit=15&last_es_updated_dt={last_es_updated_dt}&lang=ru&rubrics=/ural-news&sort=-es_updated_dt'\n",
    "    data = get_content(driver, iter_api)\n",
    "    update_news(news, data)\n",
    "    if i == 100:\n",
    "        print('Reached 100!')\n",
    "        i = 0\n",
    "        with open('tass', 'wb') as f:\n",
    "            pickle.dump(news, f)"
   ]
  },
  {
   "cell_type": "code",
   "execution_count": null,
   "id": "109c4f44",
   "metadata": {},
   "outputs": [],
   "source": [
    "driver.close()"
   ]
  },
  {
   "cell_type": "code",
   "execution_count": 18,
   "id": "d4e000bf",
   "metadata": {},
   "outputs": [],
   "source": [
    "with open('tass', 'wb') as f:\n",
    "    pickle.dump(news, f)"
   ]
  },
  {
   "cell_type": "code",
   "execution_count": 27,
   "id": "01cf92fa",
   "metadata": {},
   "outputs": [
    {
     "data": {
      "text/plain": [
       "34321"
      ]
     },
     "execution_count": 27,
     "metadata": {},
     "output_type": "execute_result"
    }
   ],
   "source": [
    "len(news)"
   ]
  },
  {
   "cell_type": "code",
   "execution_count": 28,
   "id": "139ccb4b",
   "metadata": {},
   "outputs": [
    {
     "data": {
      "text/plain": [
       "{'composite_id': '697849',\n",
       " 'title': 'Лосенок, которого спасли на Урале, первые в жизни морозы перезимует в конюшне',\n",
       " 'subtitle': '',\n",
       " 'lead': 'Подкидыша выходили свердловские школьники',\n",
       " 'url': 'https://tass.ru/ural-news/697849',\n",
       " 'rubrics': ['Новости Урала'],\n",
       " 'tags': [],\n",
       " 'es_updated_dt': '2013-10-29T10:54:39.461413',\n",
       " 'published_date': '2013-10-29'}"
      ]
     },
     "execution_count": 28,
     "metadata": {},
     "output_type": "execute_result"
    }
   ],
   "source": [
    "news[-1]"
   ]
  },
  {
   "cell_type": "code",
   "execution_count": null,
   "id": "ca2f777d",
   "metadata": {},
   "outputs": [],
   "source": []
  }
 ],
 "metadata": {
  "kernelspec": {
   "display_name": "Python 3 (ipykernel)",
   "language": "python",
   "name": "python3"
  },
  "language_info": {
   "codemirror_mode": {
    "name": "ipython",
    "version": 3
   },
   "file_extension": ".py",
   "mimetype": "text/x-python",
   "name": "python",
   "nbconvert_exporter": "python",
   "pygments_lexer": "ipython3",
   "version": "3.9.7"
  },
  "toc": {
   "base_numbering": 1,
   "nav_menu": {},
   "number_sections": true,
   "sideBar": true,
   "skip_h1_title": false,
   "title_cell": "Table of Contents",
   "title_sidebar": "Contents",
   "toc_cell": false,
   "toc_position": {
    "height": "calc(100% - 180px)",
    "left": "10px",
    "top": "150px",
    "width": "384px"
   },
   "toc_section_display": true,
   "toc_window_display": true
  }
 },
 "nbformat": 4,
 "nbformat_minor": 5
}
