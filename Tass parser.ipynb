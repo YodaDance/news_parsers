{
 "cells": [
  {
   "cell_type": "markdown",
   "id": "0754ff7c",
   "metadata": {},
   "source": [
    "## Importing libs"
   ]
  },
  {
   "cell_type": "code",
   "execution_count": 1,
   "id": "a19c8c23",
   "metadata": {},
   "outputs": [],
   "source": [
    "import time\n",
    "import numpy as np\n",
    "import pandas as pd\n",
    "import pickle\n",
    "\n",
    "from selenium import webdriver\n",
    "from selenium.webdriver.chrome.service import Service\n",
    "from bs4 import BeautifulSoup\n",
    "import json"
   ]
  },
  {
   "cell_type": "markdown",
   "id": "390399fb",
   "metadata": {},
   "source": [
    "### Set up selenium browser"
   ]
  },
  {
   "cell_type": "code",
   "execution_count": 3,
   "id": "5193e669",
   "metadata": {},
   "outputs": [],
   "source": [
    "options = webdriver.ChromeOptions()\n",
    "options.add_argument('--ignore-certificate-errors')\n",
    "options.add_argument('--incognito')\n",
    "options.add_argument('headless')    \n",
    "service = Service('./chromedriver')\n",
    "driver = webdriver.Chrome(service=service, options=options)"
   ]
  },
  {
   "cell_type": "markdown",
   "id": "c5c2deae",
   "metadata": {},
   "source": [
    "## Web scraping TASS"
   ]
  },
  {
   "cell_type": "code",
   "execution_count": 4,
   "id": "8beb4571",
   "metadata": {},
   "outputs": [],
   "source": [
    "def get_content(driver: webdriver, api: str) -> json:\n",
    "    '''Open a link by selenium webdriver, scrap the page and returns result with proposed news in json format'''\n",
    "    driver.get(api) # открываем ссылку\n",
    "    time.sleep(3) # даем прогрузиться\n",
    "    \n",
    "    page_source = driver.page_source # берем страницу\n",
    "    soup = BeautifulSoup(page_source, 'html.parser') # парсим\n",
    "    data = json.loads(soup.body.text) # достаем текст и превращаем в формат json\n",
    "    \n",
    "    return data\n",
    "\n",
    "\n",
    "def update_news(news: list, data: json):\n",
    "    '''Download news from Tass ural (/ural-news) and add to the existing list of news\n",
    "    '''\n",
    "    new_news = [] # список всех распарсенных новостей\n",
    "    for item in data['result']: # идем по каждой новости\n",
    "        cur_news = {} \n",
    "        cur_news['composite_id'] = item['composite_id']\n",
    "        cur_news['title'] = item['title']\n",
    "        cur_news['subtitle'] = item['subtitle']\n",
    "        cur_news['lead'] = item['lead']\n",
    "        cur_news['url'] = 'https://tass.ru' + item['url']\n",
    "        cur_news['rubrics'] = []\n",
    "        for rubric in item['rubrics']:\n",
    "            cur_news['rubrics'].append(rubric['name'])\n",
    "        cur_news['tags'] = []\n",
    "        for tag in item['tags']:\n",
    "            cur_news['tags'].append(tag['name'])\n",
    "        cur_news['es_updated_dt'] = item['es_updated_dt']\n",
    "        cur_news['published_date'] = item['es_updated_dt'].split('T')[0]\n",
    "        new_news.append(cur_news)\n",
    "        \n",
    "    news.extend(new_news) # расширяем существующий список новыми новостями\n",
    "    pass"
   ]
  },
  {
   "cell_type": "code",
   "execution_count": 5,
   "id": "1a618bec",
   "metadata": {},
   "outputs": [],
   "source": [
    "# загружаем новости со стартовой страницы\n",
    "api = 'https://tass.ru/tbp/api/v1/content?limit=18&offset=0&lang=ru&rubrics=/ural-news&sort=-es_updated_dt'\n",
    "data = get_content(driver, api)"
   ]
  },
  {
   "cell_type": "code",
   "execution_count": 6,
   "id": "97b8c01a",
   "metadata": {},
   "outputs": [
    {
     "data": {
      "text/plain": [
       "{'id': 14976661,\n",
       " 'composite_id': '14976661',\n",
       " 'type': 'news',\n",
       " 'status': 'published',\n",
       " 'title': 'Грозы с сильным ветром и жаркая погода ожидаются в регионах Урала в ближайшие три дня',\n",
       " 'subtitle': '',\n",
       " 'lead': 'Синоптики прогнозируют грозы с сильным ветром и дожди',\n",
       " 'url': '/obschestvo/14976661',\n",
       " 'lang': 'ru',\n",
       " 'urgency': 'normal',\n",
       " 'main_media': {'gallery': None, 'image': None, 'video': None},\n",
       " 'main_rubric_id': 24,\n",
       " 'rubrics': [{'id': 24,\n",
       "   'name': 'Общество',\n",
       "   'url': '/obschestvo',\n",
       "   'type': 'rubric'},\n",
       "  {'id': 4731,\n",
       "   'name': 'Новости Урала',\n",
       "   'url': '/ural-news',\n",
       "   'type': 'rubric'}],\n",
       " 'tags': [{'id': 3929, 'name': 'Россия', 'url': '/rossiya'},\n",
       "  {'id': 8974,\n",
       "   'name': 'Свердловская область',\n",
       "   'url': '/sverdlovskaya-oblast'}],\n",
       " 'published_dt': '2022-06-20T13:53:40',\n",
       " 'publish_updated_dt': '2022-06-20T13:53:40',\n",
       " 'updated_dt': '2022-06-20T13:53:40',\n",
       " 'es_updated_dt': '2022-06-20T13:53:40.775132',\n",
       " 'meta_title': 'Грозы с сильным ветром и жаркая погода ожидаются в регионах Урала в ближайшие три дня  - ТАСС',\n",
       " 'meta_description': 'Синоптики прогнозируют грозы с сильным ветром и дожди',\n",
       " 'author': ' ЕКАТЕРИНБУРГ 20, июня. /ТАСС',\n",
       " 'authors': [{'id': None,\n",
       "   'url': None,\n",
       "   'name': ' ЕКАТЕРИНБУРГ 20, июня. /ТАСС',\n",
       "   'image': None,\n",
       "   'role': None,\n",
       "   'is_expert': False}],\n",
       " 'technical_caption': '',\n",
       " 'options': {'is_online': None,\n",
       "  'is_live': None,\n",
       "  'is_flash': False,\n",
       "  'is_verified_by_tass': False,\n",
       "  'is_explained_by_tass': False,\n",
       "  'card_quantity': None,\n",
       "  'sponsor_type': None,\n",
       "  'hide_main_photo': False},\n",
       " 'stream': {'is_video_streaming': False,\n",
       "  'rtmp': '',\n",
       "  'smil': '',\n",
       "  'm3u8': '',\n",
       "  'copyright': '',\n",
       "  'description': None}}"
      ]
     },
     "execution_count": 6,
     "metadata": {},
     "output_type": "execute_result"
    }
   ],
   "source": [
    "data['result'][0] # так выглядит новость"
   ]
  },
  {
   "cell_type": "code",
   "execution_count": 8,
   "id": "7de5f503",
   "metadata": {},
   "outputs": [
    {
     "data": {
      "text/plain": [
       "{'composite_id': '14976661',\n",
       " 'title': 'Грозы с сильным ветром и жаркая погода ожидаются в регионах Урала в ближайшие три дня',\n",
       " 'subtitle': '',\n",
       " 'lead': 'Синоптики прогнозируют грозы с сильным ветром и дожди',\n",
       " 'url': 'https://tass.ru/obschestvo/14976661',\n",
       " 'rubrics': ['Общество', 'Новости Урала'],\n",
       " 'tags': ['Россия', 'Свердловская область'],\n",
       " 'es_updated_dt': '2022-06-20T13:53:40.775132',\n",
       " 'published_date': '2022-06-20'}"
      ]
     },
     "execution_count": 8,
     "metadata": {},
     "output_type": "execute_result"
    }
   ],
   "source": [
    "news[0] # так выглядит каждая новость после парсинга"
   ]
  },
  {
   "cell_type": "markdown",
   "id": "06fef860",
   "metadata": {},
   "source": [
    "## Downloading past news"
   ]
  },
  {
   "cell_type": "code",
   "execution_count": 2,
   "id": "42c84ec6",
   "metadata": {},
   "outputs": [],
   "source": [
    "with open('tass', 'rb') as f:\n",
    "    news = pickle.load(f)"
   ]
  },
  {
   "cell_type": "code",
   "execution_count": 26,
   "id": "d27b4b1a",
   "metadata": {
    "collapsed": true
   },
   "outputs": [
    {
     "name": "stdout",
     "output_type": "stream",
     "text": [
      "Reached 100!\n",
      "Reached 100!\n",
      "Reached 100!\n",
      "Reached 100!\n",
      "Reached 100!\n",
      "Reached 100!\n",
      "Reached 100!\n",
      "Reached 100!\n",
      "Reached 100!\n",
      "Reached 100!\n",
      "Reached 100!\n",
      "Reached 100!\n",
      "Reached 100!\n",
      "Reached 100!\n",
      "Reached 100!\n",
      "Reached 100!\n",
      "Reached 100!\n",
      "Reached 100!\n",
      "Reached 100!\n",
      "Reached 100!\n",
      "Reached 100!\n",
      "Reached 100!\n",
      "Reached 100!\n",
      "Reached 100!\n",
      "Reached 100!\n",
      "Reached 100!\n",
      "Reached 100!\n",
      "Reached 100!\n",
      "Reached 100!\n",
      "Reached 100!\n",
      "Reached 100!\n",
      "Reached 100!\n",
      "Reached 100!\n",
      "Reached 100!\n",
      "Reached 100!\n",
      "Reached 100!\n",
      "Reached 100!\n",
      "Reached 100!\n",
      "Reached 100!\n",
      "Reached 100!\n",
      "Reached 100!\n",
      "Reached 100!\n",
      "Reached 100!\n",
      "Reached 100!\n",
      "Reached 100!\n",
      "Reached 100!\n",
      "Reached 100!\n"
     ]
    },
    {
     "ename": "KeyboardInterrupt",
     "evalue": "",
     "output_type": "error",
     "traceback": [
      "\u001b[1;31m---------------------------------------------------------------------------\u001b[0m",
      "\u001b[1;31mKeyboardInterrupt\u001b[0m                         Traceback (most recent call last)",
      "Input \u001b[1;32mIn [26]\u001b[0m, in \u001b[0;36m<cell line: 3>\u001b[1;34m()\u001b[0m\n\u001b[0;32m      5\u001b[0m last_es_updated_dt \u001b[38;5;241m=\u001b[39m news[\u001b[38;5;241m-\u001b[39m\u001b[38;5;241m1\u001b[39m][\u001b[38;5;124m'\u001b[39m\u001b[38;5;124mes_updated_dt\u001b[39m\u001b[38;5;124m'\u001b[39m]\n\u001b[0;32m      6\u001b[0m iter_api \u001b[38;5;241m=\u001b[39m \u001b[38;5;124mf\u001b[39m\u001b[38;5;124m'\u001b[39m\u001b[38;5;124mhttps://tass.ru/tbp/api/v1/content?limit=15&last_es_updated_dt=\u001b[39m\u001b[38;5;132;01m{\u001b[39;00mlast_es_updated_dt\u001b[38;5;132;01m}\u001b[39;00m\u001b[38;5;124m&lang=ru&rubrics=/ural-news&sort=-es_updated_dt\u001b[39m\u001b[38;5;124m'\u001b[39m\n\u001b[1;32m----> 7\u001b[0m data \u001b[38;5;241m=\u001b[39m \u001b[43mget_content\u001b[49m\u001b[43m(\u001b[49m\u001b[43mdriver\u001b[49m\u001b[43m,\u001b[49m\u001b[43m \u001b[49m\u001b[43miter_api\u001b[49m\u001b[43m)\u001b[49m\n\u001b[0;32m      8\u001b[0m update_news(news, data)\n\u001b[0;32m      9\u001b[0m \u001b[38;5;28;01mif\u001b[39;00m i \u001b[38;5;241m==\u001b[39m \u001b[38;5;241m100\u001b[39m:\n",
      "Input \u001b[1;32mIn [4]\u001b[0m, in \u001b[0;36mget_content\u001b[1;34m(driver, api)\u001b[0m\n\u001b[0;32m      2\u001b[0m \u001b[38;5;124;03m'''Open a link by selenium webdriver, scrap the page and returns result with proposed news in json format'''\u001b[39;00m\n\u001b[0;32m      3\u001b[0m driver\u001b[38;5;241m.\u001b[39mget(api) \u001b[38;5;66;03m# открываем ссылку\u001b[39;00m\n\u001b[1;32m----> 4\u001b[0m \u001b[43mtime\u001b[49m\u001b[38;5;241;43m.\u001b[39;49m\u001b[43msleep\u001b[49m\u001b[43m(\u001b[49m\u001b[38;5;241;43m3\u001b[39;49m\u001b[43m)\u001b[49m \u001b[38;5;66;03m# даем прогрузиться\u001b[39;00m\n\u001b[0;32m      6\u001b[0m page_source \u001b[38;5;241m=\u001b[39m driver\u001b[38;5;241m.\u001b[39mpage_source \u001b[38;5;66;03m# берем страницу\u001b[39;00m\n\u001b[0;32m      7\u001b[0m soup \u001b[38;5;241m=\u001b[39m BeautifulSoup(page_source, \u001b[38;5;124m'\u001b[39m\u001b[38;5;124mhtml.parser\u001b[39m\u001b[38;5;124m'\u001b[39m) \u001b[38;5;66;03m# парсим\u001b[39;00m\n",
      "\u001b[1;31mKeyboardInterrupt\u001b[0m: "
     ]
    }
   ],
   "source": [
    "i = 0\n",
    "while True:\n",
    "    time.sleep(3)\n",
    "    i += 1\n",
    "    last_es_updated_dt = news[-1]['es_updated_dt']\n",
    "    iter_api = f'https://tass.ru/tbp/api/v1/content?limit=15&last_es_updated_dt={last_es_updated_dt}&lang=ru&rubrics=/ural-news&sort=-es_updated_dt'\n",
    "    data = get_content(driver, iter_api)\n",
    "    update_news(news, data)\n",
    "    if i == 100:\n",
    "        print('Reached 100!')\n",
    "        i = 0\n",
    "        with open('tass', 'wb') as f:\n",
    "            pickle.dump(news, f)"
   ]
  },
  {
   "cell_type": "code",
   "execution_count": null,
   "id": "109c4f44",
   "metadata": {},
   "outputs": [],
   "source": [
    "driver.close()"
   ]
  },
  {
   "cell_type": "code",
   "execution_count": 18,
   "id": "d4e000bf",
   "metadata": {},
   "outputs": [],
   "source": [
    "with open('tass', 'wb') as f:\n",
    "    pickle.dump(news, f)"
   ]
  },
  {
   "cell_type": "code",
   "execution_count": 3,
   "id": "01cf92fa",
   "metadata": {},
   "outputs": [
    {
     "data": {
      "text/plain": [
       "34321"
      ]
     },
     "execution_count": 3,
     "metadata": {},
     "output_type": "execute_result"
    }
   ],
   "source": [
    "len(news)"
   ]
  },
  {
   "cell_type": "code",
   "execution_count": 4,
   "id": "139ccb4b",
   "metadata": {},
   "outputs": [
    {
     "data": {
      "text/plain": [
       "{'composite_id': '697849',\n",
       " 'title': 'Лосенок, которого спасли на Урале, первые в жизни морозы перезимует в конюшне',\n",
       " 'subtitle': '',\n",
       " 'lead': 'Подкидыша выходили свердловские школьники',\n",
       " 'url': 'https://tass.ru/ural-news/697849',\n",
       " 'rubrics': ['Новости Урала'],\n",
       " 'tags': [],\n",
       " 'es_updated_dt': '2013-10-29T10:54:39.461413',\n",
       " 'published_date': '2013-10-29'}"
      ]
     },
     "execution_count": 4,
     "metadata": {},
     "output_type": "execute_result"
    }
   ],
   "source": [
    "news[-1]"
   ]
  },
  {
   "cell_type": "markdown",
   "id": "8445713d",
   "metadata": {},
   "source": [
    "## Working with news data"
   ]
  },
  {
   "cell_type": "code",
   "execution_count": 15,
   "id": "ca2f777d",
   "metadata": {},
   "outputs": [],
   "source": [
    "df = pd.DataFrame.from_records(news)"
   ]
  },
  {
   "cell_type": "code",
   "execution_count": 16,
   "id": "26c19879",
   "metadata": {},
   "outputs": [],
   "source": [
    "df_econ = df[df['url'].apply(lambda x: 'ekonomika' in x)]\n",
    "df_econ.reset_index(drop=True, inplace=True)"
   ]
  },
  {
   "cell_type": "code",
   "execution_count": 21,
   "id": "5004faa4",
   "metadata": {},
   "outputs": [
    {
     "data": {
      "text/html": [
       "<div>\n",
       "<style scoped>\n",
       "    .dataframe tbody tr th:only-of-type {\n",
       "        vertical-align: middle;\n",
       "    }\n",
       "\n",
       "    .dataframe tbody tr th {\n",
       "        vertical-align: top;\n",
       "    }\n",
       "\n",
       "    .dataframe thead th {\n",
       "        text-align: right;\n",
       "    }\n",
       "</style>\n",
       "<table border=\"1\" class=\"dataframe\">\n",
       "  <thead>\n",
       "    <tr style=\"text-align: right;\">\n",
       "      <th></th>\n",
       "      <th>composite_id</th>\n",
       "      <th>title</th>\n",
       "      <th>subtitle</th>\n",
       "      <th>lead</th>\n",
       "      <th>url</th>\n",
       "      <th>rubrics</th>\n",
       "      <th>tags</th>\n",
       "      <th>es_updated_dt</th>\n",
       "      <th>published_date</th>\n",
       "    </tr>\n",
       "  </thead>\n",
       "  <tbody>\n",
       "    <tr>\n",
       "      <th>0</th>\n",
       "      <td>14974687</td>\n",
       "      <td>Удмуртия заключила на ПМЭФ 10 соглашений и мем...</td>\n",
       "      <td></td>\n",
       "      <td>В республике планируется создать около 500 нов...</td>\n",
       "      <td>https://tass.ru/ekonomika/14974687</td>\n",
       "      <td>[Экономика и бизнес, Новости Урала, ПМЭФ-2022]</td>\n",
       "      <td>[Россия, Санкт-Петербург, Удмуртия, ПМЭФ-2022]</td>\n",
       "      <td>2022-06-20T11:50:32.453984</td>\n",
       "      <td>2022-06-20</td>\n",
       "    </tr>\n",
       "    <tr>\n",
       "      <th>1</th>\n",
       "      <td>14973665</td>\n",
       "      <td>Энергоблок №4 Белоярской АЭС вывели в плановый...</td>\n",
       "      <td></td>\n",
       "      <td>После окончания работ объект будет работать на...</td>\n",
       "      <td>https://tass.ru/ekonomika/14973665</td>\n",
       "      <td>[Экономика и бизнес, Новости Урала]</td>\n",
       "      <td>[Россия, Свердловская область]</td>\n",
       "      <td>2022-06-20T10:44:11.490726</td>\n",
       "      <td>2022-06-20</td>\n",
       "    </tr>\n",
       "    <tr>\n",
       "      <th>2</th>\n",
       "      <td>14969993</td>\n",
       "      <td>ЯНАО, Москва и Магаданская область возглавили ...</td>\n",
       "      <td></td>\n",
       "      <td>Всего в рейтинг вошел 41 регион</td>\n",
       "      <td>https://tass.ru/ekonomika/14969993</td>\n",
       "      <td>[Общество, Экономика и бизнес, Северо-Запад, Н...</td>\n",
       "      <td>[Россия]</td>\n",
       "      <td>2022-06-20T00:39:00.676491</td>\n",
       "      <td>2022-06-20</td>\n",
       "    </tr>\n",
       "    <tr>\n",
       "      <th>3</th>\n",
       "      <td>14966253</td>\n",
       "      <td>Золотодобывающее предприятие в Таджикистане по...</td>\n",
       "      <td></td>\n",
       "      <td>Торговый представитель РФ в Таджикистане Евген...</td>\n",
       "      <td>https://tass.ru/ekonomika/14966253</td>\n",
       "      <td>[Экономика и бизнес, Новости Урала]</td>\n",
       "      <td>[Таджикистан, Россия]</td>\n",
       "      <td>2022-06-18T19:26:17.044375</td>\n",
       "      <td>2022-06-18</td>\n",
       "    </tr>\n",
       "    <tr>\n",
       "      <th>4</th>\n",
       "      <td>14964641</td>\n",
       "      <td>В Кировской области заявили, что перспективы о...</td>\n",
       "      <td></td>\n",
       "      <td>По словам врио губернатора Александра Соколова...</td>\n",
       "      <td>https://tass.ru/ekonomika/14964641</td>\n",
       "      <td>[Экономика и бизнес, Новости Урала, ПМЭФ-2022]</td>\n",
       "      <td>[Россия, Кировская область, ПМЭФ-2022]</td>\n",
       "      <td>2022-06-18T13:42:21.915387</td>\n",
       "      <td>2022-06-18</td>\n",
       "    </tr>\n",
       "    <tr>\n",
       "      <th>...</th>\n",
       "      <td>...</td>\n",
       "      <td>...</td>\n",
       "      <td>...</td>\n",
       "      <td>...</td>\n",
       "      <td>...</td>\n",
       "      <td>...</td>\n",
       "      <td>...</td>\n",
       "      <td>...</td>\n",
       "      <td>...</td>\n",
       "    </tr>\n",
       "    <tr>\n",
       "      <th>3204</th>\n",
       "      <td>1457112</td>\n",
       "      <td>Инвестиционный форум \"Сочи-2014\": российские р...</td>\n",
       "      <td></td>\n",
       "      <td>Главы трех регионов заявили, что прекращение и...</td>\n",
       "      <td>https://tass.ru/ekonomika/1457112</td>\n",
       "      <td>[Экономика и бизнес, Новости Урала, Санкции в ...</td>\n",
       "      <td>[Санкции в отношении России, Международный инв...</td>\n",
       "      <td>2014-09-20T17:00:09.896800</td>\n",
       "      <td>2014-09-20</td>\n",
       "    </tr>\n",
       "    <tr>\n",
       "      <th>3205</th>\n",
       "      <td>1451220</td>\n",
       "      <td>Югра покажет 3D-макет Всемирного торгового цен...</td>\n",
       "      <td></td>\n",
       "      <td>Всего в Сочи Югра представит проекты на общую ...</td>\n",
       "      <td>https://tass.ru/ekonomika/1451220</td>\n",
       "      <td>[Экономика и бизнес, Новости Урала, Международ...</td>\n",
       "      <td>[Международный инвестфорум в Сочи]</td>\n",
       "      <td>2014-09-18T12:33:23.947044</td>\n",
       "      <td>2014-09-18</td>\n",
       "    </tr>\n",
       "    <tr>\n",
       "      <th>3206</th>\n",
       "      <td>1391961</td>\n",
       "      <td>Роспотребнадзор расширяет географию проверок с...</td>\n",
       "      <td></td>\n",
       "      <td>Ведомство начало проверку в Московской, Свердл...</td>\n",
       "      <td>https://tass.ru/ekonomika/1391961</td>\n",
       "      <td>[Экономика и бизнес, Потребительский рынок, Но...</td>\n",
       "      <td>[Проблемы McDonald's в России]</td>\n",
       "      <td>2014-08-21T09:11:03.309157</td>\n",
       "      <td>2014-08-21</td>\n",
       "    </tr>\n",
       "    <tr>\n",
       "      <th>3207</th>\n",
       "      <td>1290171</td>\n",
       "      <td>\"Добролет\" открывает продажу билетов на ежедне...</td>\n",
       "      <td></td>\n",
       "      <td>Минимальный тариф составит от 999 руб.</td>\n",
       "      <td>https://tass.ru/ekonomika/1290171</td>\n",
       "      <td>[Экономика и бизнес, Новости Урала, Транспорт]</td>\n",
       "      <td>[]</td>\n",
       "      <td>2014-07-01T07:42:37.620436</td>\n",
       "      <td>2014-07-01</td>\n",
       "    </tr>\n",
       "    <tr>\n",
       "      <th>3208</th>\n",
       "      <td>1074615</td>\n",
       "      <td>ЦБ РФ отозвал лицензии у двух банков</td>\n",
       "      <td></td>\n",
       "      <td>Это екатеринбургский \"Сберинвестбанк\" и \"Мой Б...</td>\n",
       "      <td>https://tass.ru/ekonomika/1074615</td>\n",
       "      <td>[Экономика и бизнес, Новости Урала, Санация на...</td>\n",
       "      <td>[Санация на финансовом рынке]</td>\n",
       "      <td>2014-03-26T03:19:22.379482</td>\n",
       "      <td>2014-03-26</td>\n",
       "    </tr>\n",
       "  </tbody>\n",
       "</table>\n",
       "<p>3209 rows × 9 columns</p>\n",
       "</div>"
      ],
      "text/plain": [
       "     composite_id                                              title subtitle  \\\n",
       "0        14974687  Удмуртия заключила на ПМЭФ 10 соглашений и мем...            \n",
       "1        14973665  Энергоблок №4 Белоярской АЭС вывели в плановый...            \n",
       "2        14969993  ЯНАО, Москва и Магаданская область возглавили ...            \n",
       "3        14966253  Золотодобывающее предприятие в Таджикистане по...            \n",
       "4        14964641  В Кировской области заявили, что перспективы о...            \n",
       "...           ...                                                ...      ...   \n",
       "3204      1457112  Инвестиционный форум \"Сочи-2014\": российские р...            \n",
       "3205      1451220  Югра покажет 3D-макет Всемирного торгового цен...            \n",
       "3206      1391961  Роспотребнадзор расширяет географию проверок с...            \n",
       "3207      1290171  \"Добролет\" открывает продажу билетов на ежедне...            \n",
       "3208      1074615               ЦБ РФ отозвал лицензии у двух банков            \n",
       "\n",
       "                                                   lead  \\\n",
       "0     В республике планируется создать около 500 нов...   \n",
       "1     После окончания работ объект будет работать на...   \n",
       "2                       Всего в рейтинг вошел 41 регион   \n",
       "3     Торговый представитель РФ в Таджикистане Евген...   \n",
       "4     По словам врио губернатора Александра Соколова...   \n",
       "...                                                 ...   \n",
       "3204  Главы трех регионов заявили, что прекращение и...   \n",
       "3205  Всего в Сочи Югра представит проекты на общую ...   \n",
       "3206  Ведомство начало проверку в Московской, Свердл...   \n",
       "3207             Минимальный тариф составит от 999 руб.   \n",
       "3208  Это екатеринбургский \"Сберинвестбанк\" и \"Мой Б...   \n",
       "\n",
       "                                     url  \\\n",
       "0     https://tass.ru/ekonomika/14974687   \n",
       "1     https://tass.ru/ekonomika/14973665   \n",
       "2     https://tass.ru/ekonomika/14969993   \n",
       "3     https://tass.ru/ekonomika/14966253   \n",
       "4     https://tass.ru/ekonomika/14964641   \n",
       "...                                  ...   \n",
       "3204   https://tass.ru/ekonomika/1457112   \n",
       "3205   https://tass.ru/ekonomika/1451220   \n",
       "3206   https://tass.ru/ekonomika/1391961   \n",
       "3207   https://tass.ru/ekonomika/1290171   \n",
       "3208   https://tass.ru/ekonomika/1074615   \n",
       "\n",
       "                                                rubrics  \\\n",
       "0        [Экономика и бизнес, Новости Урала, ПМЭФ-2022]   \n",
       "1                   [Экономика и бизнес, Новости Урала]   \n",
       "2     [Общество, Экономика и бизнес, Северо-Запад, Н...   \n",
       "3                   [Экономика и бизнес, Новости Урала]   \n",
       "4        [Экономика и бизнес, Новости Урала, ПМЭФ-2022]   \n",
       "...                                                 ...   \n",
       "3204  [Экономика и бизнес, Новости Урала, Санкции в ...   \n",
       "3205  [Экономика и бизнес, Новости Урала, Международ...   \n",
       "3206  [Экономика и бизнес, Потребительский рынок, Но...   \n",
       "3207     [Экономика и бизнес, Новости Урала, Транспорт]   \n",
       "3208  [Экономика и бизнес, Новости Урала, Санация на...   \n",
       "\n",
       "                                                   tags  \\\n",
       "0        [Россия, Санкт-Петербург, Удмуртия, ПМЭФ-2022]   \n",
       "1                        [Россия, Свердловская область]   \n",
       "2                                              [Россия]   \n",
       "3                                 [Таджикистан, Россия]   \n",
       "4                [Россия, Кировская область, ПМЭФ-2022]   \n",
       "...                                                 ...   \n",
       "3204  [Санкции в отношении России, Международный инв...   \n",
       "3205                 [Международный инвестфорум в Сочи]   \n",
       "3206                     [Проблемы McDonald's в России]   \n",
       "3207                                                 []   \n",
       "3208                      [Санация на финансовом рынке]   \n",
       "\n",
       "                   es_updated_dt published_date  \n",
       "0     2022-06-20T11:50:32.453984     2022-06-20  \n",
       "1     2022-06-20T10:44:11.490726     2022-06-20  \n",
       "2     2022-06-20T00:39:00.676491     2022-06-20  \n",
       "3     2022-06-18T19:26:17.044375     2022-06-18  \n",
       "4     2022-06-18T13:42:21.915387     2022-06-18  \n",
       "...                          ...            ...  \n",
       "3204  2014-09-20T17:00:09.896800     2014-09-20  \n",
       "3205  2014-09-18T12:33:23.947044     2014-09-18  \n",
       "3206  2014-08-21T09:11:03.309157     2014-08-21  \n",
       "3207  2014-07-01T07:42:37.620436     2014-07-01  \n",
       "3208  2014-03-26T03:19:22.379482     2014-03-26  \n",
       "\n",
       "[3209 rows x 9 columns]"
      ]
     },
     "execution_count": 21,
     "metadata": {},
     "output_type": "execute_result"
    }
   ],
   "source": [
    "df_econ"
   ]
  },
  {
   "cell_type": "code",
   "execution_count": null,
   "id": "92014116",
   "metadata": {},
   "outputs": [],
   "source": []
  }
 ],
 "metadata": {
  "kernelspec": {
   "display_name": "Python 3 (ipykernel)",
   "language": "python",
   "name": "python3"
  },
  "language_info": {
   "codemirror_mode": {
    "name": "ipython",
    "version": 3
   },
   "file_extension": ".py",
   "mimetype": "text/x-python",
   "name": "python",
   "nbconvert_exporter": "python",
   "pygments_lexer": "ipython3",
   "version": "3.9.7"
  },
  "toc": {
   "base_numbering": 1,
   "nav_menu": {},
   "number_sections": true,
   "sideBar": true,
   "skip_h1_title": false,
   "title_cell": "Table of Contents",
   "title_sidebar": "Contents",
   "toc_cell": false,
   "toc_position": {
    "height": "calc(100% - 180px)",
    "left": "10px",
    "top": "150px",
    "width": "226px"
   },
   "toc_section_display": true,
   "toc_window_display": true
  }
 },
 "nbformat": 4,
 "nbformat_minor": 5
}
